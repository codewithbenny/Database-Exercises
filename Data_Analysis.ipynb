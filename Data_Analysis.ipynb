{
 "cells": [
  {
   "cell_type": "code",
   "execution_count": 1,
   "id": "ade8a47e",
   "metadata": {},
   "outputs": [
    {
     "ename": "ModuleNotFoundError",
     "evalue": "No module named 'JSON'",
     "output_type": "error",
     "traceback": [
      "\u001b[1;31m---------------------------------------------------------------------------\u001b[0m",
      "\u001b[1;31mModuleNotFoundError\u001b[0m                       Traceback (most recent call last)",
      "\u001b[1;32m<ipython-input-1-4c0f798377bb>\u001b[0m in \u001b[0;36m<module>\u001b[1;34m\u001b[0m\n\u001b[0;32m      4\u001b[0m \u001b[1;32mfrom\u001b[0m \u001b[0mbs4\u001b[0m \u001b[1;32mimport\u001b[0m \u001b[0mBeautifulSoup\u001b[0m\u001b[1;33m\u001b[0m\u001b[1;33m\u001b[0m\u001b[0m\n\u001b[0;32m      5\u001b[0m \u001b[1;32mimport\u001b[0m \u001b[0mbs4\u001b[0m\u001b[1;33m\u001b[0m\u001b[1;33m\u001b[0m\u001b[0m\n\u001b[1;32m----> 6\u001b[1;33m \u001b[1;32mimport\u001b[0m \u001b[0mJSON\u001b[0m\u001b[1;33m\u001b[0m\u001b[1;33m\u001b[0m\u001b[0m\n\u001b[0m\u001b[0;32m      7\u001b[0m \u001b[1;32mfrom\u001b[0m \u001b[0mDateTime\u001b[0m \u001b[1;32mimport\u001b[0m \u001b[0mdate\u001b[0m\u001b[1;33m\u001b[0m\u001b[1;33m\u001b[0m\u001b[0m\n",
      "\u001b[1;31mModuleNotFoundError\u001b[0m: No module named 'JSON'"
     ]
    }
   ],
   "source": [
    "import pandas as pd\n",
    "from IPython.core.display import HTML\n",
    "import requests\n",
    "from bs4 import BeautifulSoup\n",
    "import bs4\n",
    "import JSON\n",
    "from DateTime import date"
   ]
  },
  {
   "cell_type": "code",
   "execution_count": 2,
   "id": "c3c834fa",
   "metadata": {},
   "outputs": [
    {
     "ename": "ModuleNotFoundError",
     "evalue": "No module named 'DateTime'",
     "output_type": "error",
     "traceback": [
      "\u001b[1;31m---------------------------------------------------------------------------\u001b[0m",
      "\u001b[1;31mModuleNotFoundError\u001b[0m                       Traceback (most recent call last)",
      "\u001b[1;32m<ipython-input-2-494d189bc3c8>\u001b[0m in \u001b[0;36m<module>\u001b[1;34m\u001b[0m\n\u001b[0;32m      5\u001b[0m \u001b[1;32mimport\u001b[0m \u001b[0mbs4\u001b[0m\u001b[1;33m\u001b[0m\u001b[1;33m\u001b[0m\u001b[0m\n\u001b[0;32m      6\u001b[0m \u001b[1;32mimport\u001b[0m \u001b[0mjson\u001b[0m\u001b[1;33m\u001b[0m\u001b[1;33m\u001b[0m\u001b[0m\n\u001b[1;32m----> 7\u001b[1;33m \u001b[1;32mfrom\u001b[0m \u001b[0mDateTime\u001b[0m \u001b[1;32mimport\u001b[0m \u001b[0mdate\u001b[0m\u001b[1;33m\u001b[0m\u001b[1;33m\u001b[0m\u001b[0m\n\u001b[0m",
      "\u001b[1;31mModuleNotFoundError\u001b[0m: No module named 'DateTime'"
     ]
    }
   ],
   "source": [
    "import pandas as pd\n",
    "from IPython.core.display import HTML\n",
    "import requests\n",
    "from bs4 import BeautifulSoup\n",
    "import bs4\n",
    "import json\n",
    "from DateTime import date"
   ]
  },
  {
   "cell_type": "code",
   "execution_count": 3,
   "id": "5bb64c11",
   "metadata": {},
   "outputs": [
    {
     "ename": "ModuleNotFoundError",
     "evalue": "No module named 'JSON'",
     "output_type": "error",
     "traceback": [
      "\u001b[1;31m---------------------------------------------------------------------------\u001b[0m",
      "\u001b[1;31mModuleNotFoundError\u001b[0m                       Traceback (most recent call last)",
      "\u001b[1;32m<ipython-input-3-afb203c039be>\u001b[0m in \u001b[0;36m<module>\u001b[1;34m\u001b[0m\n\u001b[0;32m      4\u001b[0m \u001b[1;32mfrom\u001b[0m \u001b[0mbs4\u001b[0m \u001b[1;32mimport\u001b[0m \u001b[0mBeautifulSoup\u001b[0m\u001b[1;33m\u001b[0m\u001b[1;33m\u001b[0m\u001b[0m\n\u001b[0;32m      5\u001b[0m \u001b[1;32mimport\u001b[0m \u001b[0mbs4\u001b[0m\u001b[1;33m\u001b[0m\u001b[1;33m\u001b[0m\u001b[0m\n\u001b[1;32m----> 6\u001b[1;33m \u001b[1;32mimport\u001b[0m \u001b[0mJSON\u001b[0m\u001b[1;33m\u001b[0m\u001b[1;33m\u001b[0m\u001b[0m\n\u001b[0m\u001b[0;32m      7\u001b[0m \u001b[1;32mfrom\u001b[0m \u001b[0mdatetime\u001b[0m \u001b[1;32mimport\u001b[0m \u001b[0mdate\u001b[0m\u001b[1;33m\u001b[0m\u001b[1;33m\u001b[0m\u001b[0m\n",
      "\u001b[1;31mModuleNotFoundError\u001b[0m: No module named 'JSON'"
     ]
    }
   ],
   "source": [
    "import pandas as pd\n",
    "from IPython.core.display import HTML\n",
    "import requests\n",
    "from bs4 import BeautifulSoup\n",
    "import bs4\n",
    "import JSON\n",
    "from datetime import date"
   ]
  },
  {
   "cell_type": "code",
   "execution_count": 4,
   "id": "7dee9aeb",
   "metadata": {},
   "outputs": [],
   "source": [
    "import pandas as pd\n",
    "from IPython.core.display import HTML\n",
    "import requests\n",
    "from bs4 import BeautifulSoup\n",
    "import bs4\n",
    "import json\n",
    "from datetime import date"
   ]
  },
  {
   "cell_type": "code",
   "execution_count": 5,
   "id": "550c3445",
   "metadata": {},
   "outputs": [],
   "source": [
    "URL=\"https://www.worldometers.info/gdp/gdp-per-capita/\"\n",
    "page = requests.get(URL)\n",
    "soup = BeautifulSoup(page.content, 'html.parser')\n",
    "stats_tbl = soup.find(\"table\")"
   ]
  },
  {
   "cell_type": "code",
   "execution_count": 6,
   "id": "77161faa",
   "metadata": {},
   "outputs": [],
   "source": [
    "def parse_table(tbl,cols):\n",
    "\n",
    "    rows = []\n",
    "\n",
    "    trows = tbl.find_all(\"tr\")\n",
    "\n",
    "    for tr in trows[1:]:\n",
    "\n",
    "        row = []\n",
    "\n",
    "        for td in tr.children:\n",
    "\n",
    "            if isinstance(td,bs4.element.Tag):\n",
    "\n",
    "                for data in td.children:\n",
    "\n",
    "                    if isinstance(data,bs4.element.Tag):\n",
    "\n",
    "                        for innerHTML in data.children:\n",
    "\n",
    "                            row.append(innerHTML)\n",
    "\n",
    "                    else:\n",
    "\n",
    "                        row.append(data)\n",
    "\n",
    "        rows.append(row)\n",
    "\n",
    "    \n",
    "\n",
    "    return pd.DataFrame(rows,columns=cols)\n",
    "\n",
    " \n",
    "\n",
    "df = parse_table(stats_tbl,[\"Ranking\",\"Country\",\"GDP (PPP) per capita\",\"GDP (nominal) per capita\",\"vs. World PPP GDP per capita\"])"
   ]
  },
  {
   "cell_type": "code",
   "execution_count": 7,
   "id": "8201b5f7",
   "metadata": {},
   "outputs": [
    {
     "data": {
      "text/html": [
       "<div>\n",
       "<style scoped>\n",
       "    .dataframe tbody tr th:only-of-type {\n",
       "        vertical-align: middle;\n",
       "    }\n",
       "\n",
       "    .dataframe tbody tr th {\n",
       "        vertical-align: top;\n",
       "    }\n",
       "\n",
       "    .dataframe thead th {\n",
       "        text-align: right;\n",
       "    }\n",
       "</style>\n",
       "<table border=\"1\" class=\"dataframe\">\n",
       "  <thead>\n",
       "    <tr style=\"text-align: right;\">\n",
       "      <th></th>\n",
       "      <th>Ranking</th>\n",
       "      <th>Country</th>\n",
       "      <th>GDP (PPP) per capita</th>\n",
       "      <th>GDP (nominal) per capita</th>\n",
       "      <th>vs. World PPP GDP per capita</th>\n",
       "    </tr>\n",
       "  </thead>\n",
       "  <tbody>\n",
       "    <tr>\n",
       "      <th>0</th>\n",
       "      <td>1</td>\n",
       "      <td>Qatar</td>\n",
       "      <td>$128,647</td>\n",
       "      <td>$61,264</td>\n",
       "      <td>752%</td>\n",
       "    </tr>\n",
       "    <tr>\n",
       "      <th>1</th>\n",
       "      <td>2</td>\n",
       "      <td>Macao</td>\n",
       "      <td>$115,367</td>\n",
       "      <td>$80,890</td>\n",
       "      <td>675%</td>\n",
       "    </tr>\n",
       "    <tr>\n",
       "      <th>2</th>\n",
       "      <td>3</td>\n",
       "      <td>Luxembourg</td>\n",
       "      <td>$107,641</td>\n",
       "      <td>$105,280</td>\n",
       "      <td>629%</td>\n",
       "    </tr>\n",
       "    <tr>\n",
       "      <th>3</th>\n",
       "      <td>4</td>\n",
       "      <td>Singapore</td>\n",
       "      <td>$94,105</td>\n",
       "      <td>$56,746</td>\n",
       "      <td>550%</td>\n",
       "    </tr>\n",
       "    <tr>\n",
       "      <th>4</th>\n",
       "      <td>5</td>\n",
       "      <td>Brunei</td>\n",
       "      <td>$79,003</td>\n",
       "      <td>$28,572</td>\n",
       "      <td>462%</td>\n",
       "    </tr>\n",
       "  </tbody>\n",
       "</table>\n",
       "</div>"
      ],
      "text/plain": [
       "  Ranking     Country GDP (PPP) per capita GDP (nominal) per capita  \\\n",
       "0       1       Qatar            $128,647                   $61,264   \n",
       "1       2       Macao            $115,367                   $80,890   \n",
       "2       3  Luxembourg            $107,641                  $105,280   \n",
       "3       4   Singapore             $94,105                   $56,746   \n",
       "4       5     Brunei              $79,003                   $28,572   \n",
       "\n",
       "  vs. World PPP GDP per capita  \n",
       "0                        752%   \n",
       "1                        675%   \n",
       "2                        629%   \n",
       "3                        550%   \n",
       "4                        462%   "
      ]
     },
     "execution_count": 7,
     "metadata": {},
     "output_type": "execute_result"
    }
   ],
   "source": [
    "df.head()"
   ]
  },
  {
   "cell_type": "code",
   "execution_count": 8,
   "id": "cd95b96b",
   "metadata": {},
   "outputs": [
    {
     "name": "stderr",
     "output_type": "stream",
     "text": [
      "<ipython-input-8-a25f8e7856ef>:3: FutureWarning: The default value of regex will change from True to False in a future version. In addition, single character regular expressions will*not* be treated as literal strings when regex=True.\n",
      "  df['GDP (PPP) per capita'] = df['GDP (PPP) per capita'].str.replace(\"$\",\"\")\n",
      "<ipython-input-8-a25f8e7856ef>:7: FutureWarning: The default value of regex will change from True to False in a future version.\n",
      "  df['GDP (PPP) per capita'] = df['GDP (PPP) per capita'].str.replace(\"N.A.\",\"0\")\n"
     ]
    }
   ],
   "source": [
    "# The data is present with $ sign and ,. This needs to be converted to numeric data\n",
    "\n",
    "df['GDP (PPP) per capita'] = df['GDP (PPP) per capita'].str.replace(\"$\",\"\")\n",
    "\n",
    "df['GDP (PPP) per capita'] = df['GDP (PPP) per capita'].str.replace(\",\",\"\")\n",
    "\n",
    "df['GDP (PPP) per capita'] = df['GDP (PPP) per capita'].str.replace(\"N.A.\",\"0\")\n",
    "\n",
    "df['GDP (PPP) per capita'] = df['GDP (PPP) per capita'].astype(int)"
   ]
  },
  {
   "cell_type": "code",
   "execution_count": 9,
   "id": "c280bf42",
   "metadata": {},
   "outputs": [
    {
     "name": "stderr",
     "output_type": "stream",
     "text": [
      "<ipython-input-9-d2feb7e4b8c6>:1: FutureWarning: The default value of regex will change from True to False in a future version. In addition, single character regular expressions will*not* be treated as literal strings when regex=True.\n",
      "  df['GDP (nominal) per capita'] = df['GDP (nominal) per capita'].str.replace(\"$\",\"\")\n",
      "<ipython-input-9-d2feb7e4b8c6>:3: FutureWarning: The default value of regex will change from True to False in a future version.\n",
      "  df['GDP (nominal) per capita'] = df['GDP (nominal) per capita'].str.replace(\"N.A.\",\"0\")\n"
     ]
    }
   ],
   "source": [
    "df['GDP (nominal) per capita'] = df['GDP (nominal) per capita'].str.replace(\"$\",\"\")\n",
    "df['GDP (nominal) per capita'] = df['GDP (nominal) per capita'].str.replace(\",\",\"\")\n",
    "df['GDP (nominal) per capita'] = df['GDP (nominal) per capita'].str.replace(\"N.A.\",\"0\")\n",
    "df['GDP (nominal) per capita'] = df['GDP (nominal) per capita'].astype(int)"
   ]
  },
  {
   "cell_type": "code",
   "execution_count": 10,
   "id": "04f8ee20",
   "metadata": {},
   "outputs": [
    {
     "ename": "ModuleNotFoundError",
     "evalue": "No module named 'matplotlib'",
     "output_type": "error",
     "traceback": [
      "\u001b[1;31m---------------------------------------------------------------------------\u001b[0m",
      "\u001b[1;31mModuleNotFoundError\u001b[0m                       Traceback (most recent call last)",
      "\u001b[1;32m<ipython-input-10-24c21ec30889>\u001b[0m in \u001b[0;36m<module>\u001b[1;34m\u001b[0m\n\u001b[1;32m----> 1\u001b[1;33m \u001b[1;32mimport\u001b[0m \u001b[0mmatplotlib\u001b[0m\u001b[1;33m.\u001b[0m\u001b[0mpyplot\u001b[0m \u001b[1;32mas\u001b[0m \u001b[0mplt\u001b[0m\u001b[1;33m\u001b[0m\u001b[1;33m\u001b[0m\u001b[0m\n\u001b[0m\u001b[0;32m      2\u001b[0m \u001b[1;32mimport\u001b[0m \u001b[0mseaborn\u001b[0m \u001b[1;32mas\u001b[0m \u001b[0msns\u001b[0m\u001b[1;33m\u001b[0m\u001b[1;33m\u001b[0m\u001b[0m\n\u001b[0;32m      3\u001b[0m \u001b[1;33m\u001b[0m\u001b[0m\n\u001b[0;32m      4\u001b[0m \u001b[0mgdps\u001b[0m \u001b[1;33m=\u001b[0m \u001b[0mdf\u001b[0m\u001b[1;33m[\u001b[0m\u001b[1;34m'GDP (PPP) per capita'\u001b[0m\u001b[1;33m]\u001b[0m\u001b[1;33m[\u001b[0m\u001b[1;36m0\u001b[0m\u001b[1;33m:\u001b[0m\u001b[1;36m20\u001b[0m\u001b[1;33m]\u001b[0m\u001b[1;33m\u001b[0m\u001b[1;33m\u001b[0m\u001b[0m\n\u001b[0;32m      5\u001b[0m \u001b[0mcountries\u001b[0m \u001b[1;33m=\u001b[0m \u001b[0mdf\u001b[0m\u001b[1;33m[\u001b[0m\u001b[1;34m'Country'\u001b[0m\u001b[1;33m]\u001b[0m\u001b[1;33m[\u001b[0m\u001b[1;36m0\u001b[0m\u001b[1;33m:\u001b[0m\u001b[1;36m20\u001b[0m\u001b[1;33m]\u001b[0m\u001b[1;33m\u001b[0m\u001b[1;33m\u001b[0m\u001b[0m\n",
      "\u001b[1;31mModuleNotFoundError\u001b[0m: No module named 'matplotlib'"
     ]
    }
   ],
   "source": [
    "import matplotlib.pyplot as plt\n",
    "import seaborn as sns\n",
    "\n",
    "gdps = df['GDP (PPP) per capita'][0:20]\n",
    "countries = df['Country'][0:20]\n",
    "\n",
    "plt.figure(figsize=(10,5))\n",
    "plot = sns.barplot(countries, gdps)\n",
    "\n",
    "plot.set_xticklabels(countries, rotation=90)\n",
    "\n",
    "plt.show()"
   ]
  },
  {
   "cell_type": "code",
   "execution_count": 11,
   "id": "0918d53a",
   "metadata": {},
   "outputs": [
    {
     "ename": "SyntaxError",
     "evalue": "invalid syntax (<ipython-input-11-9c2515b7f068>, line 1)",
     "output_type": "error",
     "traceback": [
      "\u001b[1;36m  File \u001b[1;32m\"<ipython-input-11-9c2515b7f068>\"\u001b[1;36m, line \u001b[1;32m1\u001b[0m\n\u001b[1;33m    python -m pip install -U pip\u001b[0m\n\u001b[1;37m              ^\u001b[0m\n\u001b[1;31mSyntaxError\u001b[0m\u001b[1;31m:\u001b[0m invalid syntax\n"
     ]
    }
   ],
   "source": [
    "python -m pip install -U pip\n",
    "python -m pip install -U matplotlib"
   ]
  },
  {
   "cell_type": "code",
   "execution_count": 12,
   "id": "b31f0c4f",
   "metadata": {},
   "outputs": [
    {
     "name": "stdout",
     "output_type": "stream",
     "text": [
      "Collecting matplotlibNote: you may need to restart the kernel to use updated packages.\n",
      "  Downloading matplotlib-3.4.2-cp38-cp38-win_amd64.whl (7.1 MB)\n",
      "Collecting pillow>=6.2.0\n",
      "  Downloading Pillow-8.2.0-cp38-cp38-win_amd64.whl (2.2 MB)\n",
      "Requirement already satisfied: pyparsing>=2.2.1 in c:\\users\\ravi\\appdata\\local\\programs\\python\\python38\\lib\\site-packages (from matplotlib) (2.4.7)\n",
      "Collecting kiwisolver>=1.0.1\n",
      "  Downloading kiwisolver-1.3.1-cp38-cp38-win_amd64.whl (51 kB)\n",
      "Requirement already satisfied: numpy>=1.16 in c:\\users\\ravi\\appdata\\local\\programs\\python\\python38\\lib\\site-packages (from matplotlib) (1.20.3)\n",
      "Requirement already satisfied: python-dateutil>=2.7 in c:\\users\\ravi\\appdata\\local\\programs\\python\\python38\\lib\\site-packages (from matplotlib) (2.8.1)\n",
      "Collecting cycler>=0.10\n",
      "  Using cached cycler-0.10.0-py2.py3-none-any.whl (6.5 kB)\n",
      "Requirement already satisfied: six>=1.5 in c:\\users\\ravi\\appdata\\local\\programs\\python\\python38\\lib\\site-packages (from python-dateutil>=2.7->matplotlib) (1.15.0)\n",
      "Installing collected packages: pillow, kiwisolver, cycler, matplotlib\n",
      "Successfully installed cycler-0.10.0 kiwisolver-1.3.1 matplotlib-3.4.2 pillow-8.2.0\n",
      "\n"
     ]
    },
    {
     "name": "stderr",
     "output_type": "stream",
     "text": [
      "WARNING: You are using pip version 20.1.1; however, version 21.1.1 is available.\n",
      "You should consider upgrading via the 'c:\\users\\ravi\\appdata\\local\\programs\\python\\python38\\python.exe -m pip install --upgrade pip' command.\n"
     ]
    }
   ],
   "source": [
    "pip install matplotlib"
   ]
  },
  {
   "cell_type": "code",
   "execution_count": 13,
   "id": "f2d77449",
   "metadata": {},
   "outputs": [
    {
     "name": "stderr",
     "output_type": "stream",
     "text": [
      "Matplotlib is building the font cache; this may take a moment.\n"
     ]
    },
    {
     "ename": "ModuleNotFoundError",
     "evalue": "No module named 'seaborn'",
     "output_type": "error",
     "traceback": [
      "\u001b[1;31m---------------------------------------------------------------------------\u001b[0m",
      "\u001b[1;31mModuleNotFoundError\u001b[0m                       Traceback (most recent call last)",
      "\u001b[1;32m<ipython-input-13-24c21ec30889>\u001b[0m in \u001b[0;36m<module>\u001b[1;34m\u001b[0m\n\u001b[0;32m      1\u001b[0m \u001b[1;32mimport\u001b[0m \u001b[0mmatplotlib\u001b[0m\u001b[1;33m.\u001b[0m\u001b[0mpyplot\u001b[0m \u001b[1;32mas\u001b[0m \u001b[0mplt\u001b[0m\u001b[1;33m\u001b[0m\u001b[1;33m\u001b[0m\u001b[0m\n\u001b[1;32m----> 2\u001b[1;33m \u001b[1;32mimport\u001b[0m \u001b[0mseaborn\u001b[0m \u001b[1;32mas\u001b[0m \u001b[0msns\u001b[0m\u001b[1;33m\u001b[0m\u001b[1;33m\u001b[0m\u001b[0m\n\u001b[0m\u001b[0;32m      3\u001b[0m \u001b[1;33m\u001b[0m\u001b[0m\n\u001b[0;32m      4\u001b[0m \u001b[0mgdps\u001b[0m \u001b[1;33m=\u001b[0m \u001b[0mdf\u001b[0m\u001b[1;33m[\u001b[0m\u001b[1;34m'GDP (PPP) per capita'\u001b[0m\u001b[1;33m]\u001b[0m\u001b[1;33m[\u001b[0m\u001b[1;36m0\u001b[0m\u001b[1;33m:\u001b[0m\u001b[1;36m20\u001b[0m\u001b[1;33m]\u001b[0m\u001b[1;33m\u001b[0m\u001b[1;33m\u001b[0m\u001b[0m\n\u001b[0;32m      5\u001b[0m \u001b[0mcountries\u001b[0m \u001b[1;33m=\u001b[0m \u001b[0mdf\u001b[0m\u001b[1;33m[\u001b[0m\u001b[1;34m'Country'\u001b[0m\u001b[1;33m]\u001b[0m\u001b[1;33m[\u001b[0m\u001b[1;36m0\u001b[0m\u001b[1;33m:\u001b[0m\u001b[1;36m20\u001b[0m\u001b[1;33m]\u001b[0m\u001b[1;33m\u001b[0m\u001b[1;33m\u001b[0m\u001b[0m\n",
      "\u001b[1;31mModuleNotFoundError\u001b[0m: No module named 'seaborn'"
     ]
    }
   ],
   "source": [
    "import matplotlib.pyplot as plt\n",
    "import seaborn as sns\n",
    "\n",
    "gdps = df['GDP (PPP) per capita'][0:20]\n",
    "countries = df['Country'][0:20]\n",
    "\n",
    "plt.figure(figsize=(10,5))\n",
    "plot = sns.barplot(countries, gdps)\n",
    "\n",
    "plot.set_xticklabels(countries, rotation=90)\n",
    "\n",
    "plt.show()"
   ]
  },
  {
   "cell_type": "code",
   "execution_count": 14,
   "id": "dd18d9d4",
   "metadata": {},
   "outputs": [
    {
     "name": "stdout",
     "output_type": "stream",
     "text": [
      "Collecting seaborn\n",
      "  Downloading seaborn-0.11.1-py3-none-any.whl (285 kB)\n",
      "Requirement already satisfied: pandas>=0.23 in c:\\users\\ravi\\appdata\\local\\programs\\python\\python38\\lib\\site-packages (from seaborn) (1.2.4)\n",
      "Requirement already satisfied: scipy>=1.0 in c:\\users\\ravi\\appdata\\local\\programs\\python\\python38\\lib\\site-packages (from seaborn) (1.6.3)\n",
      "Requirement already satisfied: numpy>=1.15 in c:\\users\\ravi\\appdata\\local\\programs\\python\\python38\\lib\\site-packages (from seaborn) (1.20.3)\n",
      "Requirement already satisfied: matplotlib>=2.2 in c:\\users\\ravi\\appdata\\local\\programs\\python\\python38\\lib\\site-packages (from seaborn) (3.4.2)\n",
      "Requirement already satisfied: pytz>=2017.3 in c:\\users\\ravi\\appdata\\local\\programs\\python\\python38\\lib\\site-packages (from pandas>=0.23->seaborn) (2020.1)\n",
      "Requirement already satisfied: python-dateutil>=2.7.3 in c:\\users\\ravi\\appdata\\local\\programs\\python\\python38\\lib\\site-packages (from pandas>=0.23->seaborn) (2.8.1)\n",
      "Requirement already satisfied: pillow>=6.2.0 in c:\\users\\ravi\\appdata\\local\\programs\\python\\python38\\lib\\site-packages (from matplotlib>=2.2->seaborn) (8.2.0)\n",
      "Requirement already satisfied: cycler>=0.10 in c:\\users\\ravi\\appdata\\local\\programs\\python\\python38\\lib\\site-packages (from matplotlib>=2.2->seaborn) (0.10.0)\n",
      "Requirement already satisfied: pyparsing>=2.2.1 in c:\\users\\ravi\\appdata\\local\\programs\\python\\python38\\lib\\site-packages (from matplotlib>=2.2->seaborn) (2.4.7)\n",
      "Requirement already satisfied: kiwisolver>=1.0.1 in c:\\users\\ravi\\appdata\\local\\programs\\python\\python38\\lib\\site-packages (from matplotlib>=2.2->seaborn) (1.3.1)\n",
      "Requirement already satisfied: six>=1.5 in c:\\users\\ravi\\appdata\\local\\programs\\python\\python38\\lib\\site-packages (from python-dateutil>=2.7.3->pandas>=0.23->seaborn) (1.15.0)\n",
      "Installing collected packages: seaborn\n",
      "Successfully installed seaborn-0.11.1\n",
      "Note: you may need to restart the kernel to use updated packages.\n"
     ]
    },
    {
     "name": "stderr",
     "output_type": "stream",
     "text": [
      "WARNING: You are using pip version 20.1.1; however, version 21.1.1 is available.\n",
      "You should consider upgrading via the 'c:\\users\\ravi\\appdata\\local\\programs\\python\\python38\\python.exe -m pip install --upgrade pip' command.\n"
     ]
    }
   ],
   "source": [
    "pip install seaborn"
   ]
  },
  {
   "cell_type": "code",
   "execution_count": 15,
   "id": "38f1aa8f",
   "metadata": {},
   "outputs": [
    {
     "name": "stderr",
     "output_type": "stream",
     "text": [
      "c:\\users\\ravi\\appdata\\local\\programs\\python\\python38\\lib\\site-packages\\seaborn\\_decorators.py:36: FutureWarning: Pass the following variables as keyword args: x, y. From version 0.12, the only valid positional argument will be `data`, and passing other arguments without an explicit keyword will result in an error or misinterpretation.\n",
      "  warnings.warn(\n"
     ]
    },
    {
     "data": {
      "image/png": "[encoded data removed]",
      "text/plain": [
       "<Figure size 720x360 with 1 Axes>"
      ]
     },
     "metadata": {
      "needs_background": "light"
     },
     "output_type": "display_data"
    }
   ],
   "source": [
    "import matplotlib.pyplot as plt\n",
    "import seaborn as sns\n",
    "\n",
    "gdps = df['GDP (PPP) per capita'][0:20]\n",
    "countries = df['Country'][0:20]\n",
    "\n",
    "plt.figure(figsize=(10,5))\n",
    "plot = sns.barplot(countries, gdps)\n",
    "\n",
    "plot.set_xticklabels(countries, rotation=90)\n",
    "\n",
    "plt.show()"
   ]
  },
  {
   "cell_type": "code",
   "execution_count": 16,
   "id": "2c25828e",
   "metadata": {},
   "outputs": [],
   "source": [
    "URL=\"http://worldometers.info/world-population\"\n",
    "page = requests.get(URL)\n",
    "soup = BeautifulSoup(page.content, 'html.parser')\n",
    "stats_tbl = soup.find(id=\"popbycountry\")"
   ]
  },
  {
   "cell_type": "code",
   "execution_count": 17,
   "id": "93ee50ea",
   "metadata": {},
   "outputs": [],
   "source": [
    "df2 = parse_table(stats_tbl,[\"Pop Rank\",\"Country\",\"Population 2020\",\"Yearly Change\",\"Net Change\", \"People per KMSq\",\"Land Area\",\"Migrants\",\"Fertility Rate\",\"Median Age\",\"Urban Population\",\"World Share\"])"
   ]
  },
  {
   "cell_type": "code",
   "execution_count": 18,
   "id": "6249dbeb",
   "metadata": {},
   "outputs": [
    {
     "data": {
      "text/html": [
       "<div>\n",
       "<style scoped>\n",
       "    .dataframe tbody tr th:only-of-type {\n",
       "        vertical-align: middle;\n",
       "    }\n",
       "\n",
       "    .dataframe tbody tr th {\n",
       "        vertical-align: top;\n",
       "    }\n",
       "\n",
       "    .dataframe thead th {\n",
       "        text-align: right;\n",
       "    }\n",
       "</style>\n",
       "<table border=\"1\" class=\"dataframe\">\n",
       "  <thead>\n",
       "    <tr style=\"text-align: right;\">\n",
       "      <th></th>\n",
       "      <th>Pop Rank</th>\n",
       "      <th>Country</th>\n",
       "      <th>Population 2020</th>\n",
       "      <th>Yearly Change</th>\n",
       "      <th>Net Change</th>\n",
       "      <th>People per KMSq</th>\n",
       "      <th>Land Area</th>\n",
       "      <th>Migrants</th>\n",
       "      <th>Fertility Rate</th>\n",
       "      <th>Median Age</th>\n",
       "      <th>Urban Population</th>\n",
       "      <th>World Share</th>\n",
       "    </tr>\n",
       "  </thead>\n",
       "  <tbody>\n",
       "    <tr>\n",
       "      <th>0</th>\n",
       "      <td>1</td>\n",
       "      <td>China</td>\n",
       "      <td>1,439,323,776</td>\n",
       "      <td>0.39 %</td>\n",
       "      <td>5,540,090</td>\n",
       "      <td>153</td>\n",
       "      <td>9,388,211</td>\n",
       "      <td>-348,399</td>\n",
       "      <td>1.69</td>\n",
       "      <td>38</td>\n",
       "      <td>60.8 %</td>\n",
       "      <td>18.5 %</td>\n",
       "    </tr>\n",
       "    <tr>\n",
       "      <th>1</th>\n",
       "      <td>2</td>\n",
       "      <td>India</td>\n",
       "      <td>1,380,004,385</td>\n",
       "      <td>0.99 %</td>\n",
       "      <td>13,586,631</td>\n",
       "      <td>464</td>\n",
       "      <td>2,973,190</td>\n",
       "      <td>-532,687</td>\n",
       "      <td>2.2402</td>\n",
       "      <td>28</td>\n",
       "      <td>35 %</td>\n",
       "      <td>17.7 %</td>\n",
       "    </tr>\n",
       "    <tr>\n",
       "      <th>2</th>\n",
       "      <td>3</td>\n",
       "      <td>United States</td>\n",
       "      <td>331,002,651</td>\n",
       "      <td>0.59 %</td>\n",
       "      <td>1,937,734</td>\n",
       "      <td>36</td>\n",
       "      <td>9,147,420</td>\n",
       "      <td>954,806</td>\n",
       "      <td>1.7764</td>\n",
       "      <td>38</td>\n",
       "      <td>82.8 %</td>\n",
       "      <td>4.2 %</td>\n",
       "    </tr>\n",
       "    <tr>\n",
       "      <th>3</th>\n",
       "      <td>4</td>\n",
       "      <td>Indonesia</td>\n",
       "      <td>273,523,615</td>\n",
       "      <td>1.07 %</td>\n",
       "      <td>2,898,047</td>\n",
       "      <td>151</td>\n",
       "      <td>1,811,570</td>\n",
       "      <td>-98,955</td>\n",
       "      <td>2.3195</td>\n",
       "      <td>30</td>\n",
       "      <td>56.4 %</td>\n",
       "      <td>3.5 %</td>\n",
       "    </tr>\n",
       "    <tr>\n",
       "      <th>4</th>\n",
       "      <td>5</td>\n",
       "      <td>Pakistan</td>\n",
       "      <td>220,892,340</td>\n",
       "      <td>2 %</td>\n",
       "      <td>4,327,022</td>\n",
       "      <td>287</td>\n",
       "      <td>770,880</td>\n",
       "      <td>-233,379</td>\n",
       "      <td>3.55</td>\n",
       "      <td>23</td>\n",
       "      <td>35.1 %</td>\n",
       "      <td>2.8 %</td>\n",
       "    </tr>\n",
       "    <tr>\n",
       "      <th>5</th>\n",
       "      <td>6</td>\n",
       "      <td>Brazil</td>\n",
       "      <td>212,559,417</td>\n",
       "      <td>0.72 %</td>\n",
       "      <td>1,509,890</td>\n",
       "      <td>25</td>\n",
       "      <td>8,358,140</td>\n",
       "      <td>21,200</td>\n",
       "      <td>1.74</td>\n",
       "      <td>33</td>\n",
       "      <td>87.6 %</td>\n",
       "      <td>2.7 %</td>\n",
       "    </tr>\n",
       "    <tr>\n",
       "      <th>6</th>\n",
       "      <td>7</td>\n",
       "      <td>Nigeria</td>\n",
       "      <td>206,139,589</td>\n",
       "      <td>2.58 %</td>\n",
       "      <td>5,175,990</td>\n",
       "      <td>226</td>\n",
       "      <td>910,770</td>\n",
       "      <td>-60,000</td>\n",
       "      <td>5.4168</td>\n",
       "      <td>18</td>\n",
       "      <td>52 %</td>\n",
       "      <td>2.6 %</td>\n",
       "    </tr>\n",
       "    <tr>\n",
       "      <th>7</th>\n",
       "      <td>8</td>\n",
       "      <td>Bangladesh</td>\n",
       "      <td>164,689,383</td>\n",
       "      <td>1.01 %</td>\n",
       "      <td>1,643,222</td>\n",
       "      <td>1,265</td>\n",
       "      <td>130,170</td>\n",
       "      <td>-369,501</td>\n",
       "      <td>2.052</td>\n",
       "      <td>28</td>\n",
       "      <td>39.4 %</td>\n",
       "      <td>2.1 %</td>\n",
       "    </tr>\n",
       "    <tr>\n",
       "      <th>8</th>\n",
       "      <td>9</td>\n",
       "      <td>Russia</td>\n",
       "      <td>145,934,462</td>\n",
       "      <td>0.04 %</td>\n",
       "      <td>62,206</td>\n",
       "      <td>9</td>\n",
       "      <td>16,376,870</td>\n",
       "      <td>182,456</td>\n",
       "      <td>1.8205</td>\n",
       "      <td>40</td>\n",
       "      <td>73.7 %</td>\n",
       "      <td>1.9 %</td>\n",
       "    </tr>\n",
       "    <tr>\n",
       "      <th>9</th>\n",
       "      <td>10</td>\n",
       "      <td>Mexico</td>\n",
       "      <td>128,932,753</td>\n",
       "      <td>1.06 %</td>\n",
       "      <td>1,357,224</td>\n",
       "      <td>66</td>\n",
       "      <td>1,943,950</td>\n",
       "      <td>-60,000</td>\n",
       "      <td>2.14</td>\n",
       "      <td>29</td>\n",
       "      <td>83.8 %</td>\n",
       "      <td>1.7 %</td>\n",
       "    </tr>\n",
       "  </tbody>\n",
       "</table>\n",
       "</div>"
      ],
      "text/plain": [
       "  Pop Rank        Country Population 2020 Yearly Change  Net Change  \\\n",
       "0        1          China   1,439,323,776        0.39 %   5,540,090   \n",
       "1        2          India   1,380,004,385        0.99 %  13,586,631   \n",
       "2        3  United States     331,002,651        0.59 %   1,937,734   \n",
       "3        4      Indonesia     273,523,615        1.07 %   2,898,047   \n",
       "4        5       Pakistan     220,892,340           2 %   4,327,022   \n",
       "5        6         Brazil     212,559,417        0.72 %   1,509,890   \n",
       "6        7        Nigeria     206,139,589        2.58 %   5,175,990   \n",
       "7        8     Bangladesh     164,689,383        1.01 %   1,643,222   \n",
       "8        9         Russia     145,934,462        0.04 %      62,206   \n",
       "9       10         Mexico     128,932,753        1.06 %   1,357,224   \n",
       "\n",
       "  People per KMSq   Land Area  Migrants Fertility Rate Median Age  \\\n",
       "0             153   9,388,211  -348,399           1.69         38   \n",
       "1             464   2,973,190  -532,687         2.2402         28   \n",
       "2              36   9,147,420   954,806         1.7764         38   \n",
       "3             151   1,811,570   -98,955         2.3195         30   \n",
       "4             287     770,880  -233,379           3.55         23   \n",
       "5              25   8,358,140    21,200           1.74         33   \n",
       "6             226     910,770   -60,000         5.4168         18   \n",
       "7           1,265     130,170  -369,501          2.052         28   \n",
       "8               9  16,376,870   182,456         1.8205         40   \n",
       "9              66   1,943,950   -60,000           2.14         29   \n",
       "\n",
       "  Urban Population World Share  \n",
       "0           60.8 %      18.5 %  \n",
       "1             35 %      17.7 %  \n",
       "2           82.8 %       4.2 %  \n",
       "3           56.4 %       3.5 %  \n",
       "4           35.1 %       2.8 %  \n",
       "5           87.6 %       2.7 %  \n",
       "6             52 %       2.6 %  \n",
       "7           39.4 %       2.1 %  \n",
       "8           73.7 %       1.9 %  \n",
       "9           83.8 %       1.7 %  "
      ]
     },
     "execution_count": 18,
     "metadata": {},
     "output_type": "execute_result"
    }
   ],
   "source": [
    "df2.head(10)"
   ]
  },
  {
   "cell_type": "code",
   "execution_count": 19,
   "id": "781e80fa",
   "metadata": {},
   "outputs": [],
   "source": [
    "df2['Population 2020'] = df2['Population 2020'].str.replace(\",\",\"\")\n",
    "df2['Population 2020'] = df2['Population 2020'].astype(int)\n",
    "\n",
    "df2['Net Change'] = df2['Net Change'].str.replace(\",\",\"\")\n",
    "df2['Net Change'] = df2['Net Change'].astype(int)\n",
    "\n",
    "\n",
    "df2['Land Area'] = df2['Land Area'].str.replace(\",\",\"\")\n",
    "df2['Land Area'] = df2['Land Area'].astype(int)\n",
    "\n",
    "df2['Migrants'] = df2['Migrants'].str.replace(\",\",\"\")\n",
    "df2['Migrants'] = df2['Migrants'].replace(\" \", \"0\")\n",
    "df2['Migrants'] = df2['Migrants'].astype(int)\n",
    "\n",
    "df2['Median Age'] = df2['Median Age'].replace(\"N.A.\", \"0\")\n",
    "\n",
    "df2['Median Age'] = df2['Median Age'].astype(int)\n",
    "\n",
    "df2['Pop Rank'] = df2['Pop Rank'].astype(int)"
   ]
  },
  {
   "cell_type": "code",
   "execution_count": 20,
   "id": "20cef738",
   "metadata": {},
   "outputs": [],
   "source": [
    "df_new = df.merge(df2,on=\"Country\")"
   ]
  },
  {
   "cell_type": "code",
   "execution_count": 21,
   "id": "955f1a3b",
   "metadata": {},
   "outputs": [
    {
     "data": {
      "text/html": [
       "<div>\n",
       "<style scoped>\n",
       "    .dataframe tbody tr th:only-of-type {\n",
       "        vertical-align: middle;\n",
       "    }\n",
       "\n",
       "    .dataframe tbody tr th {\n",
       "        vertical-align: top;\n",
       "    }\n",
       "\n",
       "    .dataframe thead th {\n",
       "        text-align: right;\n",
       "    }\n",
       "</style>\n",
       "<table border=\"1\" class=\"dataframe\">\n",
       "  <thead>\n",
       "    <tr style=\"text-align: right;\">\n",
       "      <th></th>\n",
       "      <th>0</th>\n",
       "      <th>1</th>\n",
       "    </tr>\n",
       "  </thead>\n",
       "  <tbody>\n",
       "    <tr>\n",
       "      <th>Ranking</th>\n",
       "      <td>1</td>\n",
       "      <td>2</td>\n",
       "    </tr>\n",
       "    <tr>\n",
       "      <th>Country</th>\n",
       "      <td>Qatar</td>\n",
       "      <td>Macao</td>\n",
       "    </tr>\n",
       "    <tr>\n",
       "      <th>GDP (PPP) per capita</th>\n",
       "      <td>128647</td>\n",
       "      <td>115367</td>\n",
       "    </tr>\n",
       "    <tr>\n",
       "      <th>GDP (nominal) per capita</th>\n",
       "      <td>61264</td>\n",
       "      <td>80890</td>\n",
       "    </tr>\n",
       "    <tr>\n",
       "      <th>vs. World PPP GDP per capita</th>\n",
       "      <td>752%</td>\n",
       "      <td>675%</td>\n",
       "    </tr>\n",
       "    <tr>\n",
       "      <th>Pop Rank</th>\n",
       "      <td>139</td>\n",
       "      <td>167</td>\n",
       "    </tr>\n",
       "    <tr>\n",
       "      <th>Population 2020</th>\n",
       "      <td>2881053</td>\n",
       "      <td>649335</td>\n",
       "    </tr>\n",
       "    <tr>\n",
       "      <th>Yearly Change</th>\n",
       "      <td>1.73 %</td>\n",
       "      <td>1.39 %</td>\n",
       "    </tr>\n",
       "    <tr>\n",
       "      <th>Net Change</th>\n",
       "      <td>48986</td>\n",
       "      <td>8890</td>\n",
       "    </tr>\n",
       "    <tr>\n",
       "      <th>People per KMSq</th>\n",
       "      <td>248</td>\n",
       "      <td>21,645</td>\n",
       "    </tr>\n",
       "    <tr>\n",
       "      <th>Land Area</th>\n",
       "      <td>11610</td>\n",
       "      <td>30</td>\n",
       "    </tr>\n",
       "    <tr>\n",
       "      <th>Migrants</th>\n",
       "      <td>40000</td>\n",
       "      <td>5000</td>\n",
       "    </tr>\n",
       "    <tr>\n",
       "      <th>Fertility Rate</th>\n",
       "      <td>1.8805</td>\n",
       "      <td>1.2</td>\n",
       "    </tr>\n",
       "    <tr>\n",
       "      <th>Median Age</th>\n",
       "      <td>32</td>\n",
       "      <td>39</td>\n",
       "    </tr>\n",
       "    <tr>\n",
       "      <th>Urban Population</th>\n",
       "      <td>96.2 %</td>\n",
       "      <td>N.A.</td>\n",
       "    </tr>\n",
       "    <tr>\n",
       "      <th>World Share</th>\n",
       "      <td>0 %</td>\n",
       "      <td>0 %</td>\n",
       "    </tr>\n",
       "  </tbody>\n",
       "</table>\n",
       "</div>"
      ],
      "text/plain": [
       "                                    0       1\n",
       "Ranking                             1       2\n",
       "Country                         Qatar   Macao\n",
       "GDP (PPP) per capita           128647  115367\n",
       "GDP (nominal) per capita        61264   80890\n",
       "vs. World PPP GDP per capita    752%    675% \n",
       "Pop Rank                          139     167\n",
       "Population 2020               2881053  649335\n",
       "Yearly Change                  1.73 %  1.39 %\n",
       "Net Change                      48986    8890\n",
       "People per KMSq                   248  21,645\n",
       "Land Area                       11610      30\n",
       "Migrants                        40000    5000\n",
       "Fertility Rate                 1.8805     1.2\n",
       "Median Age                         32      39\n",
       "Urban Population               96.2 %    N.A.\n",
       "World Share                       0 %     0 %"
      ]
     },
     "execution_count": 21,
     "metadata": {},
     "output_type": "execute_result"
    }
   ],
   "source": [
    "df_new.head(2).transpose()"
   ]
  },
  {
   "cell_type": "code",
   "execution_count": 23,
   "id": "8c3710fd",
   "metadata": {},
   "outputs": [
    {
     "name": "stderr",
     "output_type": "stream",
     "text": [
      "c:\\users\\ravi\\appdata\\local\\programs\\python\\python38\\lib\\site-packages\\seaborn\\_decorators.py:36: FutureWarning: Pass the following variables as keyword args: x, y. From version 0.12, the only valid positional argument will be `data`, and passing other arguments without an explicit keyword will result in an error or misinterpretation.\n",
      "  warnings.warn(\n"
     ]
    },
    {
     "data": {
      "image/png": "[encoded data removed]",
      "text/plain": [
       "<Figure size 720x360 with 1 Axes>"
      ]
     },
     "metadata": {
      "needs_background": "light"
     },
     "output_type": "display_data"
    }
   ],
   "source": [
    "df_temp = df_new.sort_values([\"Pop Rank\"], axis=0,\n",
    "                 ascending=True)\n",
    "gdps = df_temp['GDP (PPP) per capita'][0:20]\n",
    "countries = df_temp['Country'][0:20]\n",
    "plt.figure(figsize=(10,5))\n",
    "plot = sns.barplot(countries, gdps)\n",
    "plot.set_xticklabels(countries, rotation=90)\n",
    "plt.show()"
   ]
  },
  {
   "cell_type": "code",
   "execution_count": 24,
   "id": "e1710f72",
   "metadata": {},
   "outputs": [],
   "source": [
    "timestamp = date.today().strftime(\"%d_%m_%Y\")\n",
    "df_new.to_csv(\"Details\"+timestamp+\".csv\")"
   ]
  },
  {
   "cell_type": "code",
   "execution_count": null,
   "id": "0a8bb3d8",
   "metadata": {},
   "outputs": [],
   "source": []
  }
 ],
 "metadata": {
  "kernelspec": {
   "display_name": "Python 3",
   "language": "python",
   "name": "python3"
  },
  "language_info": {
   "codemirror_mode": {
    "name": "ipython",
    "version": 3
   },
   "file_extension": ".py",
   "mimetype": "text/x-python",
   "name": "python",
   "nbconvert_exporter": "python",
   "pygments_lexer": "ipython3",
   "version": "3.8.5"
  }
 },
 "nbformat": 4,
 "nbformat_minor": 5
}
