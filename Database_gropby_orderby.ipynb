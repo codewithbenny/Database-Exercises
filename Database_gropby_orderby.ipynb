{
 "cells": [
  {
   "cell_type": "code",
   "execution_count": 1,
   "id": "d29a5ed4",
   "metadata": {},
   "outputs": [],
   "source": [
    "import pymongo\n",
    "from pymongo import MongoClient\n",
    "client = MongoClient('mongodb://localhost:27017/')"
   ]
  },
  {
   "cell_type": "code",
   "execution_count": 2,
   "id": "080ba9fc",
   "metadata": {},
   "outputs": [],
   "source": [
    "db = client['books']"
   ]
  },
  {
   "cell_type": "code",
   "execution_count": 3,
   "id": "3e02eeb7",
   "metadata": {},
   "outputs": [],
   "source": [
    "books = db.books"
   ]
  },
  {
   "cell_type": "code",
   "execution_count": 4,
   "id": "3cc72744",
   "metadata": {},
   "outputs": [
    {
     "data": {
      "text/plain": [
       "<pymongo.results.InsertManyResult at 0x20276b5db80>"
      ]
     },
     "execution_count": 4,
     "metadata": {},
     "output_type": "execute_result"
    }
   ],
   "source": [
    "db.books.insert_many([{\"book\": \"The Ranch\", \"author\": \"Danielle Steel\"},\n",
    "                                {\"book\": \"The Firm\", \"author\": \"John Grisham\"},\n",
    "                                {\"book\": \"The runaway jury\", \"author\": \"John Grisham\"},\n",
    "                                {\"book\": \"Time to kill\", \"author\": \"John Grisham\"},\n",
    "                                {\"book\": \"The testament\", \"author\": \"John Grisham\"},\n",
    "                                {\"book\": \"Tell me your Dreams\", \"author\": \"Sidney Sheldon\"}\n",
    "                              ])"
   ]
  },
  {
   "cell_type": "code",
   "execution_count": 5,
   "id": "f115105f",
   "metadata": {},
   "outputs": [
    {
     "name": "stdout",
     "output_type": "stream",
     "text": [
      "{'_id': ObjectId('60a2267e4798fde6e6233ca3'), 'author': 'Sidney Sheldon', 'about': 'Tell Me Your Dreams', 'tags': ['MPD', 'Murder', 'Mystery']}\n",
      "{'_id': ObjectId('60a363cdc1d09ca18dab1be9'), 'book': 'The Ranch', 'author': 'Danielle Steel'}\n",
      "{'_id': ObjectId('60a363cdc1d09ca18dab1bea'), 'book': 'The Firm', 'author': 'John Grisham'}\n",
      "{'_id': ObjectId('60a363cdc1d09ca18dab1beb'), 'book': 'The runaway jury', 'author': 'John Grisham'}\n",
      "{'_id': ObjectId('60a363cdc1d09ca18dab1bec'), 'book': 'Time to kill', 'author': 'John Grisham'}\n",
      "{'_id': ObjectId('60a363cdc1d09ca18dab1bed'), 'book': 'The testament', 'author': 'John Grisham'}\n",
      "{'_id': ObjectId('60a363cdc1d09ca18dab1bee'), 'book': 'Tell me your Dreams', 'author': 'Sidney Sheldon'}\n"
     ]
    }
   ],
   "source": [
    "for book in books.find():\n",
    "  print(book)"
   ]
  },
  {
   "cell_type": "code",
   "execution_count": 6,
   "id": "50aadd4e",
   "metadata": {},
   "outputs": [
    {
     "data": {
      "text/plain": [
       "{'_id': ObjectId('60a363cdc1d09ca18dab1be9'),\n",
       " 'book': 'The Ranch',\n",
       " 'author': 'Danielle Steel'}"
      ]
     },
     "execution_count": 6,
     "metadata": {},
     "output_type": "execute_result"
    }
   ],
   "source": [
    "books.find_one({'author':\"Danielle Steel\"})"
   ]
  },
  {
   "cell_type": "code",
   "execution_count": 7,
   "id": "b281fca0",
   "metadata": {},
   "outputs": [
    {
     "name": "stdout",
     "output_type": "stream",
     "text": [
      "{'_id': ObjectId('60a2267e4798fde6e6233ca3'), 'author': 'Sidney Sheldon', 'about': 'Tell Me Your Dreams', 'tags': ['MPD', 'Murder', 'Mystery']}\n",
      "{'_id': ObjectId('60a363cdc1d09ca18dab1bee'), 'book': 'Tell me your Dreams', 'author': 'Sidney Sheldon'}\n"
     ]
    }
   ],
   "source": [
    "for book in books.find({'author':\"Sidney Sheldon\"}):\n",
    "    print(book)"
   ]
  },
  {
   "cell_type": "code",
   "execution_count": 8,
   "id": "3c03e907",
   "metadata": {},
   "outputs": [
    {
     "name": "stdout",
     "output_type": "stream",
     "text": [
      "The Firm\n",
      "The runaway jury\n",
      "Time to kill\n",
      "The testament\n"
     ]
    }
   ],
   "source": [
    "for book in books.find({'author':\"John Grisham\"}):\n",
    "    print(book['book'])"
   ]
  },
  {
   "cell_type": "code",
   "execution_count": 9,
   "id": "10d63faf",
   "metadata": {},
   "outputs": [
    {
     "name": "stdout",
     "output_type": "stream",
     "text": [
      "{'_id': ObjectId('60a363cdc1d09ca18dab1be9'), 'book': 'The Ranch', 'author': 'Danielle Steel'}\n",
      "{'_id': ObjectId('60a363cdc1d09ca18dab1bea'), 'book': 'The Firm', 'author': 'John Grisham'}\n",
      "{'_id': ObjectId('60a363cdc1d09ca18dab1beb'), 'book': 'The runaway jury', 'author': 'John Grisham'}\n",
      "{'_id': ObjectId('60a363cdc1d09ca18dab1bec'), 'book': 'Time to kill', 'author': 'John Grisham'}\n",
      "{'_id': ObjectId('60a363cdc1d09ca18dab1bed'), 'book': 'The testament', 'author': 'John Grisham'}\n",
      "{'_id': ObjectId('60a2267e4798fde6e6233ca3'), 'author': 'Sidney Sheldon', 'about': 'Tell Me Your Dreams', 'tags': ['MPD', 'Murder', 'Mystery']}\n",
      "{'_id': ObjectId('60a363cdc1d09ca18dab1bee'), 'book': 'Tell me your Dreams', 'author': 'Sidney Sheldon'}\n"
     ]
    }
   ],
   "source": [
    "for book in books.find().sort([(\"author\", pymongo.ASCENDING)]):\n",
    "  print(book)"
   ]
  },
  {
   "cell_type": "code",
   "execution_count": 10,
   "id": "03e79175",
   "metadata": {},
   "outputs": [],
   "source": [
    "pipeline = [\n",
    "     {\"$group\": {\"_id\": \"$author\", \"count\": {\"$sum\": 1}}}]\n",
    "\n",
    "grp_books = db.books.aggregate(pipeline)"
   ]
  },
  {
   "cell_type": "code",
   "execution_count": 11,
   "id": "9a591051",
   "metadata": {},
   "outputs": [
    {
     "name": "stdout",
     "output_type": "stream",
     "text": [
      "{'_id': 'Sidney Sheldon', 'count': 2}\n",
      "{'_id': 'Danielle Steel', 'count': 1}\n",
      "{'_id': 'John Grisham', 'count': 4}\n"
     ]
    }
   ],
   "source": [
    "for book in grp_books:\n",
    "  print(book)"
   ]
  },
  {
   "cell_type": "code",
   "execution_count": null,
   "id": "a4b28209",
   "metadata": {},
   "outputs": [],
   "source": []
  }
 ],
 "metadata": {
  "kernelspec": {
   "display_name": "Python 3",
   "language": "python",
   "name": "python3"
  },
  "language_info": {
   "codemirror_mode": {
    "name": "ipython",
    "version": 3
   },
   "file_extension": ".py",
   "mimetype": "text/x-python",
   "name": "python",
   "nbconvert_exporter": "python",
   "pygments_lexer": "ipython3",
   "version": "3.8.5"
  }
 },
 "nbformat": 4,
 "nbformat_minor": 5
}
